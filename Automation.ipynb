{
 "cells": [
  {
   "cell_type": "markdown",
   "metadata": {},
   "source": [
    "### Q1\n",
    "#### Login to your Instagram Handle"
   ]
  },
  {
   "cell_type": "code",
   "execution_count": 132,
   "metadata": {},
   "outputs": [],
   "source": [
    "import time\n",
    "from selenium import webdriver\n",
    "\n",
    "driver = webdriver.Chrome(executable_path='D://Setup/chromedriver')\n",
    "\n",
    "driver.get('https://www.instagram.com/accounts/login/')\n",
    "time.sleep(5)\n",
    "\n",
    "username = driver.find_element_by_name('username')\n",
    "username.send_keys('chaitanya22062001@gmail.com')\n",
    "\n",
    "password = driver.find_element_by_name('password')\n",
    "password.send_keys('chaity@7597')\n",
    "password.submit()\n",
    "time.sleep(5)\n",
    "\n",
    "btns = driver.find_elements_by_tag_name('button')\n",
    "for ele in btns:\n",
    "    if ele.text == 'Not Now':\n",
    "        ele.click()\n",
    "time.sleep(5)\n",
    "\n",
    "btns = driver.find_elements_by_tag_name('button')\n",
    "for ele in btns:\n",
    "    if ele.text == 'Not Now':\n",
    "        ele.click()\n",
    "time.sleep(5)"
   ]
  },
  {
   "cell_type": "markdown",
   "metadata": {},
   "source": [
    "### Q2\n",
    "#### Type for “food” in search bar and print all the names of the Instagram Handles that are displayed in list after typing “food”"
   ]
  },
  {
   "cell_type": "code",
   "execution_count": 77,
   "metadata": {},
   "outputs": [],
   "source": [
    "search_btn = driver.find_element_by_xpath('//input[contains(@placeholder, \"Search\")]')\n",
    "\n",
    "search_btn.send_keys('food')\n",
    "time.sleep(5)\n",
    "name_list = driver.find_elements_by_xpath(\"//div[@class = 'fuqBx ']/*\")\n",
    "\n",
    "names = []\n",
    "for ele in name_list:\n",
    "    name = ele.text\n",
    "    if name[0] != '#':\n",
    "        names.append(name)\n",
    "        \n",
    "print(*names)"
   ]
  },
  {
   "cell_type": "markdown",
   "metadata": {},
   "source": [
    "### Q3\n",
    "#### Searching and Opening a profile using , Open profile of “So Delhi” "
   ]
  },
  {
   "cell_type": "code",
   "execution_count": 78,
   "metadata": {},
   "outputs": [],
   "source": [
    "search_btn = driver.find_element_by_xpath('//input[contains(@placeholder, \"Search\")]')\n",
    "\n",
    "search_btn.send_keys('so delhi')\n",
    "time.sleep(5)\n",
    "search_btn.send_keys('\\n\\n')\n",
    "time.sleep(5)"
   ]
  },
  {
   "cell_type": "markdown",
   "metadata": {},
   "source": [
    "### Q4\n",
    "#### Follow/Unfollow given handle - \n",
    "Open the Instagram Handle of “So Delhi”\n",
    "\n",
    "Start following it. Print a message if you are already following\n",
    "\n",
    "After following, unfollow the instagram handle. Print a message if you have already unfollowed."
   ]
  },
  {
   "cell_type": "code",
   "execution_count": 122,
   "metadata": {},
   "outputs": [
    {
     "name": "stdout",
     "output_type": "stream",
     "text": [
      "The account is already followed by you.\n",
      "You have unfollowed the account.\n"
     ]
    }
   ],
   "source": [
    "follow_btns = driver.find_elements_by_xpath('//div[contains(@class, \"nZSzR\")]//button')\n",
    "\n",
    "if len(follow_btns) == 4:\n",
    "    print('The account is already followed by you.')\n",
    "    follow_btns[1].click()\n",
    "    driver.find_element_by_xpath('//div[contains(@class, \"mt3GC\")]/button').click()\n",
    "    print('You now have unfollowed this account.')\n",
    "else:\n",
    "    print('You are not following this account.')\n",
    "    follow_btns[0].click()\n",
    "    print('You now started following this account')"
   ]
  },
  {
   "cell_type": "markdown",
   "metadata": {},
   "source": [
    "### Q5\n",
    "#### Like/Unlike posts\n",
    "Liking the top 30 posts of the ‘dilsefoodie'. Print message if you have already liked it.\n",
    "\n",
    "Unliking the top 30 posts of the ‘dilsefoodie’. Print message if you have already unliked it."
   ]
  },
  {
   "cell_type": "code",
   "execution_count": 133,
   "metadata": {},
   "outputs": [],
   "source": [
    "search_btn = driver.find_element_by_xpath('//input[contains(@placeholder, \"Search\")]')\n",
    "\n",
    "search_btn.send_keys('dilsefoodie')\n",
    "time.sleep(5)\n",
    "search_btn.send_keys('\\n\\n')\n",
    "time.sleep(5)"
   ]
  },
  {
   "cell_type": "code",
   "execution_count": 156,
   "metadata": {},
   "outputs": [],
   "source": [
    "posts = driver.find_elements_by_xpath('//div[@class = \"ySN3v\"]//a')\n",
    "while (len(posts) < 30):\n",
    "    driver.execute_script('window.scrollBy(0,1000)')\n",
    "    time.sleep(5)\n",
    "    posts = driver.find_elements_by_class_name('v1Nh3')"
   ]
  },
  {
   "cell_type": "code",
   "execution_count": 145,
   "metadata": {},
   "outputs": [],
   "source": [
    "for i in range(30):\n",
    "    posts[i].click()\n",
    "    btn = driver.find_element_by_class_name('wpO6b  ')"
   ]
  },
  {
   "cell_type": "code",
   "execution_count": 157,
   "metadata": {},
   "outputs": [],
   "source": [
    "posts[0].click()"
   ]
  },
  {
   "cell_type": "code",
   "execution_count": 158,
   "metadata": {},
   "outputs": [],
   "source": [
    "btns = driver.find_elements_by_xpath('//svg[contains(@aria-label, \"Close\")]')"
   ]
  },
  {
   "cell_type": "code",
   "execution_count": 159,
   "metadata": {},
   "outputs": [
    {
     "data": {
      "text/plain": [
       "0"
      ]
     },
     "execution_count": 159,
     "metadata": {},
     "output_type": "execute_result"
    }
   ],
   "source": [
    "len(btns)"
   ]
  },
  {
   "cell_type": "code",
   "execution_count": null,
   "metadata": {},
   "outputs": [],
   "source": []
  }
 ],
 "metadata": {
  "kernelspec": {
   "display_name": "Python 3",
   "language": "python",
   "name": "python3"
  },
  "language_info": {
   "codemirror_mode": {
    "name": "ipython",
    "version": 3
   },
   "file_extension": ".py",
   "mimetype": "text/x-python",
   "name": "python",
   "nbconvert_exporter": "python",
   "pygments_lexer": "ipython3",
   "version": "3.8.5"
  }
 },
 "nbformat": 4,
 "nbformat_minor": 4
}
